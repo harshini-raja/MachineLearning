{
 "cells": [
  {
   "cell_type": "code",
   "execution_count": 2,
   "id": "e57c7ef2",
   "metadata": {},
   "outputs": [],
   "source": [
    "import numpy as np"
   ]
  },
  {
   "cell_type": "markdown",
   "id": "ccd0535d",
   "metadata": {},
   "source": [
    "#### ADDITION OF TWO VECTORS/MATRICES"
   ]
  },
  {
   "cell_type": "code",
   "execution_count": 2,
   "id": "a66626be",
   "metadata": {},
   "outputs": [
    {
     "name": "stdout",
     "output_type": "stream",
     "text": [
      "[[10 15]]\n",
      "[[20  9]]\n",
      "\n"
     ]
    },
    {
     "data": {
      "text/plain": [
       "array([[30],\n",
       "       [24]])"
      ]
     },
     "execution_count": 2,
     "metadata": {},
     "output_type": "execute_result"
    }
   ],
   "source": [
    "a=np.array([[10,15]])\n",
    "b=np.array([[20,9]])\n",
    "print(a)\n",
    "print(b)\n",
    "print()\n",
    "(a+b).T"
   ]
  },
  {
   "cell_type": "code",
   "execution_count": 5,
   "id": "58309c88",
   "metadata": {},
   "outputs": [
    {
     "data": {
      "text/plain": [
       "array([[30, 24]])"
      ]
     },
     "execution_count": 5,
     "metadata": {},
     "output_type": "execute_result"
    }
   ],
   "source": [
    "(a+b)"
   ]
  },
  {
   "cell_type": "markdown",
   "id": "b79fa698",
   "metadata": {},
   "source": [
    "#### SUBTRACTING TWO VECTORS/MATRICES"
   ]
  },
  {
   "cell_type": "code",
   "execution_count": 3,
   "id": "f0a632fe",
   "metadata": {},
   "outputs": [
    {
     "data": {
      "text/plain": [
       "array([[-10],\n",
       "       [  6]])"
      ]
     },
     "execution_count": 3,
     "metadata": {},
     "output_type": "execute_result"
    }
   ],
   "source": [
    "(a-b).T"
   ]
  },
  {
   "cell_type": "code",
   "execution_count": 4,
   "id": "a84c5111",
   "metadata": {},
   "outputs": [
    {
     "data": {
      "text/plain": [
       "array([[-10,   6]])"
      ]
     },
     "execution_count": 4,
     "metadata": {},
     "output_type": "execute_result"
    }
   ],
   "source": [
    "(a-b)"
   ]
  },
  {
   "cell_type": "markdown",
   "id": "336e259a",
   "metadata": {},
   "source": [
    "#### SCALAR MULTIPLICATION"
   ]
  },
  {
   "cell_type": "code",
   "execution_count": 10,
   "id": "c8aa408d",
   "metadata": {},
   "outputs": [
    {
     "name": "stdout",
     "output_type": "stream",
     "text": [
      "[[60 30]]\n"
     ]
    },
    {
     "data": {
      "text/plain": [
       "array([[60],\n",
       "       [30]])"
      ]
     },
     "execution_count": 10,
     "metadata": {},
     "output_type": "execute_result"
    }
   ],
   "source": [
    "a=2\n",
    "u=np.array([[30,15]])\n",
    "print(a*u)\n",
    "(a*u).T"
   ]
  },
  {
   "cell_type": "markdown",
   "id": "74b7f72d",
   "metadata": {},
   "source": [
    "#### DOT PRODUCT OF 2 VECTORS; FOR 2D VECTORS, IT IS EQUIVALENT TO MATRIX MULTIPLICATION"
   ]
  },
  {
   "cell_type": "code",
   "execution_count": 12,
   "id": "dd0700b7",
   "metadata": {},
   "outputs": [
    {
     "name": "stdout",
     "output_type": "stream",
     "text": [
      "370\n"
     ]
    },
    {
     "data": {
      "text/plain": [
       "370"
      ]
     },
     "execution_count": 12,
     "metadata": {},
     "output_type": "execute_result"
    }
   ],
   "source": [
    "u = np.array([10,20])\n",
    "v = np.array([25,6])\n",
    "print(10 *25 + 20 * 6)\n",
    "np.dot(u,v)"
   ]
  },
  {
   "cell_type": "markdown",
   "id": "c0df7669",
   "metadata": {},
   "source": [
    "#### MATRIX ADDITION"
   ]
  },
  {
   "cell_type": "code",
   "execution_count": 6,
   "id": "aeeb8b13",
   "metadata": {},
   "outputs": [
    {
     "name": "stdout",
     "output_type": "stream",
     "text": [
      "[[12 10]\n",
      " [ 4  6]\n",
      " [40 31]] = a\n",
      "\n",
      "[[ 2  8]\n",
      " [46 63]\n",
      " [50 10]] = b\n",
      "\n"
     ]
    },
    {
     "data": {
      "text/plain": [
       "array([[14, 18],\n",
       "       [50, 69],\n",
       "       [90, 41]])"
      ]
     },
     "execution_count": 6,
     "metadata": {},
     "output_type": "execute_result"
    }
   ],
   "source": [
    "a = np.array([[12,10],[4,6],[40,31],])\n",
    "b = np.array([[2,8],[46, 63],[50,10],])\n",
    "print(a,end=\" = a\\n\\n\")\n",
    "print(b, end=\" = b\\n\\n\")\n",
    "\n",
    "a+b"
   ]
  },
  {
   "cell_type": "markdown",
   "id": "4ebbdda4",
   "metadata": {},
   "source": [
    "#### MATRIX SUBTRACTION"
   ]
  },
  {
   "cell_type": "code",
   "execution_count": 7,
   "id": "862c33b5",
   "metadata": {},
   "outputs": [
    {
     "data": {
      "text/plain": [
       "array([[ 10,   2],\n",
       "       [-42, -57],\n",
       "       [-10,  21]])"
      ]
     },
     "execution_count": 7,
     "metadata": {},
     "output_type": "execute_result"
    }
   ],
   "source": [
    "a-b"
   ]
  },
  {
   "cell_type": "markdown",
   "id": "760e83b0",
   "metadata": {},
   "source": [
    "#### MATRIX SCALAR MULTIPLICATION"
   ]
  },
  {
   "cell_type": "code",
   "execution_count": 3,
   "id": "15b5e0e2",
   "metadata": {},
   "outputs": [
    {
     "data": {
      "text/plain": [
       "array([[ 8, 20],\n",
       "       [12, 28],\n",
       "       [32, 24]])"
      ]
     },
     "execution_count": 3,
     "metadata": {},
     "output_type": "execute_result"
    }
   ],
   "source": [
    "a = 4\n",
    "b = np.array([[2,5],[3,7],[8,6]])\n",
    "a*b"
   ]
  },
  {
   "cell_type": "markdown",
   "id": "f22a2d1a",
   "metadata": {},
   "source": [
    "#### MATRIX AND VECTOR MULTIPLICATION"
   ]
  },
  {
   "cell_type": "code",
   "execution_count": 4,
   "id": "c9ee4b22",
   "metadata": {},
   "outputs": [
    {
     "data": {
      "text/plain": [
       "array([170, 390])"
      ]
     },
     "execution_count": 4,
     "metadata": {},
     "output_type": "execute_result"
    }
   ],
   "source": [
    "a = [[5,10],[15,20]]\n",
    "b = [10,12]\n",
    "np.dot(a,b)"
   ]
  },
  {
   "cell_type": "markdown",
   "id": "0b04960a",
   "metadata": {},
   "source": [
    "#### TRANSPOSE OF A MATRIX"
   ]
  },
  {
   "cell_type": "code",
   "execution_count": 5,
   "id": "083517a1",
   "metadata": {},
   "outputs": [
    {
     "name": "stdout",
     "output_type": "stream",
     "text": [
      "[[ 5 10]\n",
      " [15 20]\n",
      " [25 30]] = a\n",
      "\n",
      "[[ 5 15 25]\n",
      " [10 20 30]] = aT"
     ]
    }
   ],
   "source": [
    "a = np.array([[5,10],[15,20],[25,30]])\n",
    "print(a,end=\" = a\\n\\n\")\n",
    "print(a.T, end = \" = aT\")\n"
   ]
  },
  {
   "cell_type": "markdown",
   "id": "a8c8d0ba",
   "metadata": {},
   "source": [
    "#### IDENTITY MATRIX"
   ]
  },
  {
   "cell_type": "code",
   "execution_count": 6,
   "id": "ec65c56e",
   "metadata": {},
   "outputs": [
    {
     "name": "stdout",
     "output_type": "stream",
     "text": [
      "[[1. 0.]\n",
      " [0. 1.]] = I1\n",
      "\n",
      "[[1. 0. 0.]\n",
      " [0. 1. 0.]\n",
      " [0. 0. 1.]] = I2\n",
      "\n"
     ]
    }
   ],
   "source": [
    "I1 = np.eye(2)\n",
    "I2 = np.eye(3)\n",
    "print(I1, end=\" = I1\\n\\n\")\n",
    "print(I2, end=\" = I2\\n\\n\")"
   ]
  },
  {
   "cell_type": "markdown",
   "id": "e4097343",
   "metadata": {},
   "source": [
    "#### INVERSE MATRIX - Given a square matrix A return the matrix A inverse satisfying dot(a,a inverse) = dot(a inverse, a) = eye(a.shape[0])"
   ]
  },
  {
   "cell_type": "code",
   "execution_count": 7,
   "id": "a7677110",
   "metadata": {},
   "outputs": [
    {
     "name": "stdout",
     "output_type": "stream",
     "text": [
      "[[2 1 0]\n",
      " [0 1 0]\n",
      " [1 2 1]] = a\n",
      "\n",
      "[[ 0.5 -0.5  0. ]\n",
      " [ 0.   1.   0. ]\n",
      " [-0.5 -1.5  1. ]] =|a|"
     ]
    }
   ],
   "source": [
    "a = np.array([[2,1,0],[0,1,0],[1,2,1]])\n",
    "print(a, end=\" = a\\n\\n\")\n",
    "print(np.linalg.inv(a),end = \" =|a|\")"
   ]
  },
  {
   "cell_type": "code",
   "execution_count": null,
   "id": "d60d49a6",
   "metadata": {},
   "outputs": [],
   "source": []
  }
 ],
 "metadata": {
  "kernelspec": {
   "display_name": "Python 3 (ipykernel)",
   "language": "python",
   "name": "python3"
  },
  "language_info": {
   "codemirror_mode": {
    "name": "ipython",
    "version": 3
   },
   "file_extension": ".py",
   "mimetype": "text/x-python",
   "name": "python",
   "nbconvert_exporter": "python",
   "pygments_lexer": "ipython3",
   "version": "3.11.5"
  }
 },
 "nbformat": 4,
 "nbformat_minor": 5
}
